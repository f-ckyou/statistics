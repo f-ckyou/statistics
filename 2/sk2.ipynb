{
 "cells": [
  {
   "cell_type": "code",
   "execution_count": 1,
   "metadata": {},
   "outputs": [],
   "source": [
    "from scipy.stats import skew, kurtosis"
   ]
  },
  {
   "cell_type": "code",
   "execution_count": 2,
   "metadata": {},
   "outputs": [
    {
     "name": "stdout",
     "output_type": "stream",
     "text": [
      "Skewness: -0.5612874527825843\n"
     ]
    }
   ],
   "source": [
    "\n",
    "data = [10, 12, 23, 23, 16, 23, 21, 16, 18, 22]\n",
    "\n",
    "# Skewness\n",
    "print(\"Skewness:\", skew(data))\n"
   ]
  },
  {
   "cell_type": "code",
   "execution_count": 3,
   "metadata": {},
   "outputs": [
    {
     "name": "stdout",
     "output_type": "stream",
     "text": [
      "Excess Kurtosis: -1.0564494321254736\n"
     ]
    }
   ],
   "source": [
    "\n",
    "# Kurtosis (default is Fisher’s definition = Excess Kurtosis)\n",
    "print(\"Excess Kurtosis:\", kurtosis(data))\n"
   ]
  },
  {
   "cell_type": "code",
   "execution_count": 4,
   "metadata": {},
   "outputs": [
    {
     "name": "stdout",
     "output_type": "stream",
     "text": [
      "Kurtosis (Pearson): 1.9435505678745264\n"
     ]
    }
   ],
   "source": [
    "# If you want Pearson (normal kurtosis = 3):\n",
    "print(\"Kurtosis (Pearson):\", kurtosis(data, fisher=False))\n"
   ]
  }
 ],
 "metadata": {
  "kernelspec": {
   "display_name": "maths",
   "language": "python",
   "name": "python3"
  },
  "language_info": {
   "codemirror_mode": {
    "name": "ipython",
    "version": 3
   },
   "file_extension": ".py",
   "mimetype": "text/x-python",
   "name": "python",
   "nbconvert_exporter": "python",
   "pygments_lexer": "ipython3",
   "version": "3.13.2"
  }
 },
 "nbformat": 4,
 "nbformat_minor": 2
}
